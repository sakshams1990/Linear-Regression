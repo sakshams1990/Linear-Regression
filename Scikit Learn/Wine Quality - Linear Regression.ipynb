{
 "cells": [
  {
   "cell_type": "code",
   "execution_count": 1,
   "metadata": {},
   "outputs": [],
   "source": [
    "#Importing the necessary modules\n",
    "import numpy as np\n",
    "import pandas as pd\n",
    "from sklearn.model_selection import train_test_split\n",
    "from sklearn.metrics import mean_squared_error\n",
    "from sklearn.metrics import accuracy_score\n",
    "from sklearn.linear_model import LinearRegression\n",
    "from sklearn import metrics \n",
    "import matplotlib.pyplot as plt \n",
    "import seaborn as sns\n",
    "from math import sqrt"
   ]
  },
  {
   "cell_type": "code",
   "execution_count": 2,
   "metadata": {},
   "outputs": [],
   "source": [
    "#Reading the csv file and storing it in dataframe\n",
    "df = pd.read_csv('winequality-red.csv')"
   ]
  },
  {
   "cell_type": "code",
   "execution_count": 3,
   "metadata": {},
   "outputs": [
    {
     "data": {
      "text/html": [
       "<div>\n",
       "<style scoped>\n",
       "    .dataframe tbody tr th:only-of-type {\n",
       "        vertical-align: middle;\n",
       "    }\n",
       "\n",
       "    .dataframe tbody tr th {\n",
       "        vertical-align: top;\n",
       "    }\n",
       "\n",
       "    .dataframe thead th {\n",
       "        text-align: right;\n",
       "    }\n",
       "</style>\n",
       "<table border=\"1\" class=\"dataframe\">\n",
       "  <thead>\n",
       "    <tr style=\"text-align: right;\">\n",
       "      <th></th>\n",
       "      <th>fixed acidity</th>\n",
       "      <th>volatile acidity</th>\n",
       "      <th>citric acid</th>\n",
       "      <th>residual sugar</th>\n",
       "      <th>chlorides</th>\n",
       "      <th>free sulfur dioxide</th>\n",
       "      <th>total sulfur dioxide</th>\n",
       "      <th>density</th>\n",
       "      <th>pH</th>\n",
       "      <th>sulphates</th>\n",
       "      <th>alcohol</th>\n",
       "      <th>quality</th>\n",
       "    </tr>\n",
       "  </thead>\n",
       "  <tbody>\n",
       "    <tr>\n",
       "      <td>0</td>\n",
       "      <td>7.4</td>\n",
       "      <td>0.70</td>\n",
       "      <td>0.00</td>\n",
       "      <td>1.9</td>\n",
       "      <td>0.076</td>\n",
       "      <td>11.0</td>\n",
       "      <td>34.0</td>\n",
       "      <td>0.9978</td>\n",
       "      <td>3.51</td>\n",
       "      <td>0.56</td>\n",
       "      <td>9.4</td>\n",
       "      <td>5</td>\n",
       "    </tr>\n",
       "    <tr>\n",
       "      <td>1</td>\n",
       "      <td>7.8</td>\n",
       "      <td>0.88</td>\n",
       "      <td>0.00</td>\n",
       "      <td>2.6</td>\n",
       "      <td>0.098</td>\n",
       "      <td>25.0</td>\n",
       "      <td>67.0</td>\n",
       "      <td>0.9968</td>\n",
       "      <td>3.20</td>\n",
       "      <td>0.68</td>\n",
       "      <td>9.8</td>\n",
       "      <td>5</td>\n",
       "    </tr>\n",
       "    <tr>\n",
       "      <td>2</td>\n",
       "      <td>7.8</td>\n",
       "      <td>0.76</td>\n",
       "      <td>0.04</td>\n",
       "      <td>2.3</td>\n",
       "      <td>0.092</td>\n",
       "      <td>15.0</td>\n",
       "      <td>54.0</td>\n",
       "      <td>0.9970</td>\n",
       "      <td>3.26</td>\n",
       "      <td>0.65</td>\n",
       "      <td>9.8</td>\n",
       "      <td>5</td>\n",
       "    </tr>\n",
       "    <tr>\n",
       "      <td>3</td>\n",
       "      <td>11.2</td>\n",
       "      <td>0.28</td>\n",
       "      <td>0.56</td>\n",
       "      <td>1.9</td>\n",
       "      <td>0.075</td>\n",
       "      <td>17.0</td>\n",
       "      <td>60.0</td>\n",
       "      <td>0.9980</td>\n",
       "      <td>3.16</td>\n",
       "      <td>0.58</td>\n",
       "      <td>9.8</td>\n",
       "      <td>6</td>\n",
       "    </tr>\n",
       "    <tr>\n",
       "      <td>4</td>\n",
       "      <td>7.4</td>\n",
       "      <td>0.70</td>\n",
       "      <td>0.00</td>\n",
       "      <td>1.9</td>\n",
       "      <td>0.076</td>\n",
       "      <td>11.0</td>\n",
       "      <td>34.0</td>\n",
       "      <td>0.9978</td>\n",
       "      <td>3.51</td>\n",
       "      <td>0.56</td>\n",
       "      <td>9.4</td>\n",
       "      <td>5</td>\n",
       "    </tr>\n",
       "  </tbody>\n",
       "</table>\n",
       "</div>"
      ],
      "text/plain": [
       "   fixed acidity  volatile acidity  citric acid  residual sugar  chlorides  \\\n",
       "0            7.4              0.70         0.00             1.9      0.076   \n",
       "1            7.8              0.88         0.00             2.6      0.098   \n",
       "2            7.8              0.76         0.04             2.3      0.092   \n",
       "3           11.2              0.28         0.56             1.9      0.075   \n",
       "4            7.4              0.70         0.00             1.9      0.076   \n",
       "\n",
       "   free sulfur dioxide  total sulfur dioxide  density    pH  sulphates  \\\n",
       "0                 11.0                  34.0   0.9978  3.51       0.56   \n",
       "1                 25.0                  67.0   0.9968  3.20       0.68   \n",
       "2                 15.0                  54.0   0.9970  3.26       0.65   \n",
       "3                 17.0                  60.0   0.9980  3.16       0.58   \n",
       "4                 11.0                  34.0   0.9978  3.51       0.56   \n",
       "\n",
       "   alcohol  quality  \n",
       "0      9.4        5  \n",
       "1      9.8        5  \n",
       "2      9.8        5  \n",
       "3      9.8        6  \n",
       "4      9.4        5  "
      ]
     },
     "execution_count": 3,
     "metadata": {},
     "output_type": "execute_result"
    }
   ],
   "source": [
    "#Checking the first 5 rows in the dataframe\n",
    "df.head()"
   ]
  },
  {
   "cell_type": "code",
   "execution_count": 4,
   "metadata": {},
   "outputs": [
    {
     "name": "stdout",
     "output_type": "stream",
     "text": [
      "There are  1599  rows and  12  columns in the dataframe.\n"
     ]
    }
   ],
   "source": [
    "#Checking the shape of the dataframe\n",
    "print('There are ',df.shape[0],' rows and ',df.shape[1],' columns in the dataframe.')"
   ]
  },
  {
   "cell_type": "code",
   "execution_count": 5,
   "metadata": {},
   "outputs": [
    {
     "data": {
      "text/html": [
       "<div>\n",
       "<style scoped>\n",
       "    .dataframe tbody tr th:only-of-type {\n",
       "        vertical-align: middle;\n",
       "    }\n",
       "\n",
       "    .dataframe tbody tr th {\n",
       "        vertical-align: top;\n",
       "    }\n",
       "\n",
       "    .dataframe thead th {\n",
       "        text-align: right;\n",
       "    }\n",
       "</style>\n",
       "<table border=\"1\" class=\"dataframe\">\n",
       "  <thead>\n",
       "    <tr style=\"text-align: right;\">\n",
       "      <th></th>\n",
       "      <th>fixed acidity</th>\n",
       "      <th>volatile acidity</th>\n",
       "      <th>citric acid</th>\n",
       "      <th>residual sugar</th>\n",
       "      <th>chlorides</th>\n",
       "      <th>free sulfur dioxide</th>\n",
       "      <th>total sulfur dioxide</th>\n",
       "      <th>density</th>\n",
       "      <th>pH</th>\n",
       "      <th>sulphates</th>\n",
       "      <th>alcohol</th>\n",
       "      <th>quality</th>\n",
       "    </tr>\n",
       "  </thead>\n",
       "  <tbody>\n",
       "    <tr>\n",
       "      <td>count</td>\n",
       "      <td>1599.000000</td>\n",
       "      <td>1599.000000</td>\n",
       "      <td>1599.000000</td>\n",
       "      <td>1599.000000</td>\n",
       "      <td>1599.000000</td>\n",
       "      <td>1599.000000</td>\n",
       "      <td>1599.000000</td>\n",
       "      <td>1599.000000</td>\n",
       "      <td>1599.000000</td>\n",
       "      <td>1599.000000</td>\n",
       "      <td>1599.000000</td>\n",
       "      <td>1599.000000</td>\n",
       "    </tr>\n",
       "    <tr>\n",
       "      <td>mean</td>\n",
       "      <td>8.319637</td>\n",
       "      <td>0.527821</td>\n",
       "      <td>0.270976</td>\n",
       "      <td>2.538806</td>\n",
       "      <td>0.087467</td>\n",
       "      <td>15.874922</td>\n",
       "      <td>46.467792</td>\n",
       "      <td>0.996747</td>\n",
       "      <td>3.311113</td>\n",
       "      <td>0.658149</td>\n",
       "      <td>10.422983</td>\n",
       "      <td>5.636023</td>\n",
       "    </tr>\n",
       "    <tr>\n",
       "      <td>std</td>\n",
       "      <td>1.741096</td>\n",
       "      <td>0.179060</td>\n",
       "      <td>0.194801</td>\n",
       "      <td>1.409928</td>\n",
       "      <td>0.047065</td>\n",
       "      <td>10.460157</td>\n",
       "      <td>32.895324</td>\n",
       "      <td>0.001887</td>\n",
       "      <td>0.154386</td>\n",
       "      <td>0.169507</td>\n",
       "      <td>1.065668</td>\n",
       "      <td>0.807569</td>\n",
       "    </tr>\n",
       "    <tr>\n",
       "      <td>min</td>\n",
       "      <td>4.600000</td>\n",
       "      <td>0.120000</td>\n",
       "      <td>0.000000</td>\n",
       "      <td>0.900000</td>\n",
       "      <td>0.012000</td>\n",
       "      <td>1.000000</td>\n",
       "      <td>6.000000</td>\n",
       "      <td>0.990070</td>\n",
       "      <td>2.740000</td>\n",
       "      <td>0.330000</td>\n",
       "      <td>8.400000</td>\n",
       "      <td>3.000000</td>\n",
       "    </tr>\n",
       "    <tr>\n",
       "      <td>25%</td>\n",
       "      <td>7.100000</td>\n",
       "      <td>0.390000</td>\n",
       "      <td>0.090000</td>\n",
       "      <td>1.900000</td>\n",
       "      <td>0.070000</td>\n",
       "      <td>7.000000</td>\n",
       "      <td>22.000000</td>\n",
       "      <td>0.995600</td>\n",
       "      <td>3.210000</td>\n",
       "      <td>0.550000</td>\n",
       "      <td>9.500000</td>\n",
       "      <td>5.000000</td>\n",
       "    </tr>\n",
       "    <tr>\n",
       "      <td>50%</td>\n",
       "      <td>7.900000</td>\n",
       "      <td>0.520000</td>\n",
       "      <td>0.260000</td>\n",
       "      <td>2.200000</td>\n",
       "      <td>0.079000</td>\n",
       "      <td>14.000000</td>\n",
       "      <td>38.000000</td>\n",
       "      <td>0.996750</td>\n",
       "      <td>3.310000</td>\n",
       "      <td>0.620000</td>\n",
       "      <td>10.200000</td>\n",
       "      <td>6.000000</td>\n",
       "    </tr>\n",
       "    <tr>\n",
       "      <td>75%</td>\n",
       "      <td>9.200000</td>\n",
       "      <td>0.640000</td>\n",
       "      <td>0.420000</td>\n",
       "      <td>2.600000</td>\n",
       "      <td>0.090000</td>\n",
       "      <td>21.000000</td>\n",
       "      <td>62.000000</td>\n",
       "      <td>0.997835</td>\n",
       "      <td>3.400000</td>\n",
       "      <td>0.730000</td>\n",
       "      <td>11.100000</td>\n",
       "      <td>6.000000</td>\n",
       "    </tr>\n",
       "    <tr>\n",
       "      <td>max</td>\n",
       "      <td>15.900000</td>\n",
       "      <td>1.580000</td>\n",
       "      <td>1.000000</td>\n",
       "      <td>15.500000</td>\n",
       "      <td>0.611000</td>\n",
       "      <td>72.000000</td>\n",
       "      <td>289.000000</td>\n",
       "      <td>1.003690</td>\n",
       "      <td>4.010000</td>\n",
       "      <td>2.000000</td>\n",
       "      <td>14.900000</td>\n",
       "      <td>8.000000</td>\n",
       "    </tr>\n",
       "  </tbody>\n",
       "</table>\n",
       "</div>"
      ],
      "text/plain": [
       "       fixed acidity  volatile acidity  citric acid  residual sugar  \\\n",
       "count    1599.000000       1599.000000  1599.000000     1599.000000   \n",
       "mean        8.319637          0.527821     0.270976        2.538806   \n",
       "std         1.741096          0.179060     0.194801        1.409928   \n",
       "min         4.600000          0.120000     0.000000        0.900000   \n",
       "25%         7.100000          0.390000     0.090000        1.900000   \n",
       "50%         7.900000          0.520000     0.260000        2.200000   \n",
       "75%         9.200000          0.640000     0.420000        2.600000   \n",
       "max        15.900000          1.580000     1.000000       15.500000   \n",
       "\n",
       "         chlorides  free sulfur dioxide  total sulfur dioxide      density  \\\n",
       "count  1599.000000          1599.000000           1599.000000  1599.000000   \n",
       "mean      0.087467            15.874922             46.467792     0.996747   \n",
       "std       0.047065            10.460157             32.895324     0.001887   \n",
       "min       0.012000             1.000000              6.000000     0.990070   \n",
       "25%       0.070000             7.000000             22.000000     0.995600   \n",
       "50%       0.079000            14.000000             38.000000     0.996750   \n",
       "75%       0.090000            21.000000             62.000000     0.997835   \n",
       "max       0.611000            72.000000            289.000000     1.003690   \n",
       "\n",
       "                pH    sulphates      alcohol      quality  \n",
       "count  1599.000000  1599.000000  1599.000000  1599.000000  \n",
       "mean      3.311113     0.658149    10.422983     5.636023  \n",
       "std       0.154386     0.169507     1.065668     0.807569  \n",
       "min       2.740000     0.330000     8.400000     3.000000  \n",
       "25%       3.210000     0.550000     9.500000     5.000000  \n",
       "50%       3.310000     0.620000    10.200000     6.000000  \n",
       "75%       3.400000     0.730000    11.100000     6.000000  \n",
       "max       4.010000     2.000000    14.900000     8.000000  "
      ]
     },
     "execution_count": 5,
     "metadata": {},
     "output_type": "execute_result"
    }
   ],
   "source": [
    "#To check the statistical information of the dataframe\n",
    "df.describe()"
   ]
  },
  {
   "cell_type": "code",
   "execution_count": 6,
   "metadata": {},
   "outputs": [
    {
     "name": "stdout",
     "output_type": "stream",
     "text": [
      "fixed acidity           0\n",
      "volatile acidity        0\n",
      "citric acid             0\n",
      "residual sugar          0\n",
      "chlorides               0\n",
      "free sulfur dioxide     0\n",
      "total sulfur dioxide    0\n",
      "density                 0\n",
      "pH                      0\n",
      "sulphates               0\n",
      "alcohol                 0\n",
      "quality                 0\n",
      "dtype: int64\n"
     ]
    }
   ],
   "source": [
    "#To check if there any missing values in the dataframe\n",
    "print (df.isnull().sum())"
   ]
  },
  {
   "cell_type": "code",
   "execution_count": 7,
   "metadata": {},
   "outputs": [
    {
     "name": "stdout",
     "output_type": "stream",
     "text": [
      "fixed acidity           0.124052\n",
      "volatile acidity       -0.390558\n",
      "citric acid             0.226373\n",
      "residual sugar          0.013732\n",
      "chlorides              -0.128907\n",
      "free sulfur dioxide    -0.050656\n",
      "total sulfur dioxide   -0.185100\n",
      "density                -0.174919\n",
      "pH                     -0.057731\n",
      "sulphates               0.251397\n",
      "alcohol                 0.476166\n",
      "Name: quality, dtype: float64\n"
     ]
    }
   ],
   "source": [
    "#To check the correlation of the independent variables with respect to target variable - quality\n",
    "correlations = df.corr()['quality'].drop('quality')\n",
    "print(correlations)"
   ]
  },
  {
   "cell_type": "code",
   "execution_count": 8,
   "metadata": {},
   "outputs": [
    {
     "data": {
      "image/png": "[encoded data removed]",
      "text/plain": [
       "<Figure size 432x288 with 2 Axes>"
      ]
     },
     "metadata": {
      "needs_background": "light"
     },
     "output_type": "display_data"
    }
   ],
   "source": [
    "#Plotting the correlation graph\n",
    "sns.heatmap(df.corr())\n",
    "plt.show()"
   ]
  },
  {
   "cell_type": "code",
   "execution_count": 9,
   "metadata": {},
   "outputs": [],
   "source": [
    "features = ['fixed acidity','volatile acidity','citric acid','residual sugar','chlorides',\n",
    "            'free sulfur dioxide','total sulfur dioxide','density','pH','sulphates','alcohol']"
   ]
  },
  {
   "cell_type": "code",
   "execution_count": 10,
   "metadata": {},
   "outputs": [],
   "source": [
    "X = df.drop('quality',axis=1)"
   ]
  },
  {
   "cell_type": "code",
   "execution_count": 11,
   "metadata": {},
   "outputs": [],
   "source": [
    "y = df['quality']"
   ]
  },
  {
   "cell_type": "code",
   "execution_count": 12,
   "metadata": {},
   "outputs": [],
   "source": [
    "#Performing train test split with 75% data with train and 25% with test\n",
    "X_train,X_test,y_train,y_test = train_test_split(X,y,test_size=0.25,random_state = 42)"
   ]
  },
  {
   "cell_type": "code",
   "execution_count": 13,
   "metadata": {},
   "outputs": [
    {
     "data": {
      "text/plain": [
       "LinearRegression()"
      ]
     },
     "execution_count": 13,
     "metadata": {},
     "output_type": "execute_result"
    }
   ],
   "source": [
    "#Fitting linear regression algorithm on training data\n",
    "linreg = LinearRegression()\n",
    "linreg.fit(X_train,y_train)"
   ]
  },
  {
   "cell_type": "code",
   "execution_count": 14,
   "metadata": {},
   "outputs": [
    {
     "name": "stdout",
     "output_type": "stream",
     "text": [
      "[ 2.18600313e-02 -1.00869523e+00 -1.33904164e-01  8.85944150e-03\n",
      " -1.75557840e+00  5.00853894e-03 -3.65426072e-03 -1.62236478e+01\n",
      " -3.43939544e-01  8.19819425e-01  2.86228187e-01]\n"
     ]
    }
   ],
   "source": [
    "#Printing the coefficients of the features\n",
    "print(linreg.coef_)"
   ]
  },
  {
   "cell_type": "code",
   "execution_count": 15,
   "metadata": {},
   "outputs": [],
   "source": [
    "#Predicting quality of wine on train and test dataset\n",
    "train_pred = linreg.predict(X_train)\n",
    "test_pred = linreg.predict(X_test)"
   ]
  },
  {
   "cell_type": "code",
   "execution_count": 16,
   "metadata": {},
   "outputs": [
    {
     "name": "stdout",
     "output_type": "stream",
     "text": [
      "[5.23381934 5.04148093 5.8674267  ... 4.97834394 6.63788787 6.76273841]\n",
      "\n",
      "\n",
      "[5.34360227 5.06294956 5.63333204 5.45176186 5.74570371 5.27637941\n",
      " 5.03060591 5.14548634 5.74793413 5.71379639 6.14292388 5.25602325\n",
      " 5.55746352 5.25516748 5.44918167 6.50428691 5.16155023 5.58177831\n",
      " 6.56354719 5.31109369 5.42314936 5.19226562 5.99245498 6.40578182\n",
      " 5.36515018 5.42441564 6.35376721 5.37618609 5.16180078 6.16014475\n",
      " 5.25888679 5.538378   5.7525049  5.3863994  5.45667328 5.02911082\n",
      " 6.1905284  5.71266674 5.63463533 6.20179362 5.50279355 5.24191583\n",
      " 6.16908347 5.15779342 5.85212953 5.8169982  6.415135   5.57902528\n",
      " 5.16752006 5.57681837 5.12302477 5.08832659 5.6067245  6.37829292\n",
      " 4.96528844 4.97488594 6.03283966 5.4259819  5.86156997 5.26390122\n",
      " 5.60706205 5.97031204 5.28379018 5.32034058 6.50607979 5.41422594\n",
      " 6.36327206 5.25281218 6.43657812 5.30042793 6.45787251 4.75051838\n",
      " 5.7864449  5.85992669 6.20765657 5.28686299 6.81315764 5.89419286\n",
      " 6.11784951 6.46159339 5.31818885 6.4649474  5.44746923 5.70117581\n",
      " 5.72828031 6.40777711 5.30176347 5.87982511 6.31681347 5.22693222\n",
      " 6.09262707 5.7273015  5.83734785 5.92087404 5.19877365 5.74702499\n",
      " 5.17389416 5.69266641 5.01276108 5.52378058 5.08488311 5.13853667\n",
      " 5.84170824 5.75166646 5.4841932  6.13760943 5.71130156 5.41491195\n",
      " 6.12385416 5.23233559 6.75267631 5.24136237 6.13006147 4.72447722\n",
      " 5.82120057 5.96854511 6.22777586 5.49384441 5.03280309 5.84504738\n",
      " 6.24444168 5.24539715 5.74218484 5.38281012 5.41229918 5.26080256\n",
      " 6.2126139  5.69213474 5.59783795 5.8525704  5.7864449  5.16757197\n",
      " 5.01926397 6.35703629 5.57681837 5.08687037 5.05646704 5.34053866\n",
      " 5.10228819 5.6786174  5.97787382 6.03928791 6.25858577 5.50166555\n",
      " 5.84026183 5.25658918 6.1115143  5.42921912 6.00585681 5.0582062\n",
      " 5.70802296 6.17282618 5.10919683 5.68531311 5.7864449  6.09384837\n",
      " 5.23058914 5.90721293 5.50085353 5.93828705 6.33005188 5.72159808\n",
      " 6.12216971 4.98474322 5.38501141 5.63905858 4.70607107 5.23673972\n",
      " 5.00987658 4.97853931 5.19678147 5.12531279 6.3163332  5.46175588\n",
      " 5.75641695 5.83496281 6.08323697 5.37482172 5.38998589 5.15671845\n",
      " 4.75118122 6.36191691 5.5563246  6.55772267 5.19864196 6.35495857\n",
      " 5.41684994 5.74309667 6.74858417 5.46175588 5.43862587 6.04645277\n",
      " 5.59714979 6.55223772 5.78694927 5.34653891 4.94915711 5.40413511\n",
      " 5.50113727 6.13760943 5.38098507 5.75174469 5.49804675 5.03647709\n",
      " 6.66687567 5.65608697 4.82032583 5.72324229 5.67700233 6.0571682\n",
      " 6.0387289  5.12785558 5.76298432 6.60308765 6.39335109 5.80232233\n",
      " 5.44582447 5.1824397  5.83790817 5.3153942  5.09365233 6.26719281\n",
      " 6.35994486 5.98287167 5.19958555 4.80852542 5.23462428 6.47136989\n",
      " 5.47152042 5.34178276 5.51158701 5.04165994 6.36293683 6.01033271\n",
      " 5.99273701 6.13760943 5.39122472 5.72828031 4.79351222 5.02825505\n",
      " 5.68473691 5.00842094 5.87626338 6.13179557 5.24096636 5.53276989\n",
      " 5.99537162 5.37039878 6.68855878 5.10681939 5.74914291 5.6400472\n",
      " 5.31459697 5.50414729 5.23705102 5.13548103 5.48084687 5.8765573\n",
      " 5.69830986 6.86889173 6.21304861 6.09325023 5.37482172 6.54095843\n",
      " 5.8669933  6.31107212 5.0597146  4.92216579 5.92976736 6.33164121\n",
      " 5.17555274 5.80929294 5.39944613 5.16233066 5.28281502 5.53132376\n",
      " 5.66578994 6.22662782 6.20702635 5.27181107 6.50583008 4.97189008\n",
      " 5.37272997 5.51059455 5.3543612  5.84680291 4.96930968 6.03928791\n",
      " 5.02585169 5.83030024 5.67607009 6.61777513 5.62092749 5.56533207\n",
      " 4.92336394 6.39573175 5.11504023 6.30904244 6.21929445 6.53543347\n",
      " 5.49616992 5.15021846 6.24942266 5.30587179 5.2576448  5.34514682\n",
      " 5.90791756 5.88561379 6.31103946 6.60517439 5.56421628 5.5700522\n",
      " 5.53343106 5.60259141 5.3863994  5.71354067 5.2203134  5.28499192\n",
      " 6.27841122 5.19330447 5.67950074 6.08442945 5.68900104 5.11126456\n",
      " 4.80008991 5.60968825 6.21312398 5.61021569 4.97488594 6.16014475\n",
      " 5.92463548 6.60517439 5.10243064 5.05018285 5.68073974 5.89490668\n",
      " 5.92780115 6.40953103 5.07023542 5.27331941 6.33389297 6.50512245\n",
      " 5.83734785 5.33813457 5.84253814 5.0751495  6.20765657 5.25851554\n",
      " 5.55602987 5.90297142 5.38514997 6.56355655 5.44883172 5.17678008\n",
      " 5.60102925 5.70987918 5.43281307 5.28204783 5.36385825 5.61331014\n",
      " 5.80751385 5.37023277 5.49824834 5.63894341 5.22146746 5.99935941\n",
      " 5.83956386 5.35996061 5.20502002 4.99772168 5.38684159 5.12531279\n",
      " 6.02158098 5.83707018 5.37637817 6.20179362 5.35755629 6.00114186\n",
      " 5.43747236 5.34644588 5.07512668 6.07625111 6.4188659  5.36471734\n",
      " 6.35331425 5.84086211 6.2162476  5.08176604 5.24292435 5.76882936\n",
      " 5.65423031 5.60324715 5.01469274 5.53500172 6.06494813 5.8688006\n",
      " 6.22560771 5.45667328 5.2794921  6.162135  ]\n"
     ]
    }
   ],
   "source": [
    "print(train_pred)\n",
    "print('\\n')\n",
    "print(test_pred)"
   ]
  },
  {
   "cell_type": "code",
   "execution_count": 17,
   "metadata": {},
   "outputs": [
    {
     "name": "stdout",
     "output_type": "stream",
     "text": [
      "0.653772627640322\n",
      "0.6231386191586039\n"
     ]
    }
   ],
   "source": [
    "#Calculating RMSE for both train and test dataset\n",
    "train_rmse = sqrt(mean_squared_error(train_pred, y_train))\n",
    "print(train_rmse)\n",
    "test_rmse = sqrt(mean_squared_error(test_pred, y_test))\n",
    "print(test_rmse)"
   ]
  },
  {
   "cell_type": "code",
   "execution_count": 18,
   "metadata": {},
   "outputs": [
    {
     "name": "stdout",
     "output_type": "stream",
     "text": [
      "                      Coeffecient\n",
      "fixed acidity            0.021860\n",
      "volatile acidity        -1.008695\n",
      "citric acid             -0.133904\n",
      "residual sugar           0.008859\n",
      "chlorides               -1.755578\n",
      "free sulfur dioxide      0.005009\n",
      "total sulfur dioxide    -0.003654\n",
      "density                -16.223648\n",
      "pH                      -0.343940\n",
      "sulphates                0.819819\n",
      "alcohol                  0.286228\n"
     ]
    }
   ],
   "source": [
    "#Displaying coefficients of each feature\n",
    "coeffecients = pd.DataFrame(linreg.coef_,features)\n",
    "coeffecients.columns = ['Coeffecient'] \n",
    "print(coeffecients)"
   ]
  },
  {
   "cell_type": "code",
   "execution_count": null,
   "metadata": {},
   "outputs": [],
   "source": []
  }
 ],
 "metadata": {
  "kernelspec": {
   "display_name": "Python 3",
   "language": "python",
   "name": "python3"
  },
  "language_info": {
   "codemirror_mode": {
    "name": "ipython",
    "version": 3
   },
   "file_extension": ".py",
   "mimetype": "text/x-python",
   "name": "python",
   "nbconvert_exporter": "python",
   "pygments_lexer": "ipython3",
   "version": "3.7.3"
  }
 },
 "nbformat": 4,
 "nbformat_minor": 2
}
